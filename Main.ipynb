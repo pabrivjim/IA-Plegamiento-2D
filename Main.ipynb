{
 "cells": [
  {
   "cell_type": "code",
   "execution_count": 1,
   "metadata": {},
   "outputs": [],
   "source": [
    "aa_deltaG = { 'A': 1,   # Alanine\n",
    "             'C': 0.17,  # Cysteine\n",
    "             'D': -3,    # Aspartic Acid\n",
    "             'E': -2.6,  # Glutamic Acid\n",
    "             'F': 2.5,   # Phenylalanine\n",
    "             'G': 0.67,  # Glycine\n",
    "             'H': -1.7,  # Histidine\n",
    "             'I': 3.1,   # Isoleucine\n",
    "             'K': -4.6,  # Lysine\n",
    "             'L': 2.2,   # Leucine\n",
    "             'M': 1.1,   # Methionine\n",
    "             'N': -2.7,  # Asparagine\n",
    "             'P': -0.29, # Proline\n",
    "             'Q': -2.9,  # Glutamine\n",
    "             'R': -7.5,  # Arginine\n",
    "             'S': -1.1,  # Serine\n",
    "             'T': -0.75, # Threonine\n",
    "             'V': 2.3,   # Valine\n",
    "             'W': 1.5,   # Tryptophan\n",
    "             'Y': 0.08 } # Tyrosine"
   ]
  },
  {
   "cell_type": "code",
   "execution_count": 2,
   "metadata": {},
   "outputs": [],
   "source": [
    "#Problema 1\n",
    "#protein = \"ACDEF...\"\n",
    "#estructura = \"INSWWE\"\n",
    "#res = (0,0)=[\"A\",\"C\"], (0,1)=\"B\"\n",
    "#Asumimos que protein y structure tienen la misma longitud y solo se puede hacer un movimiento por proteina.\n",
    "def get_spatial_dic(protein, structure): \n",
    "    \n",
    "    #Inicializamos el diccionario que devolveremos si no hay solapamientos\n",
    "    res = dict()\n",
    "    \n",
    "    #Las coordenadas por defecto de inicio son (x,y) = 0,0\n",
    "    afterCords= [0,0]\n",
    "    \n",
    "    #Recorremos la cadena de proteinas\n",
    "    for i in range (0,len(protein)):\n",
    "        \n",
    "        #Si la proteina está en delta entonces y la primera proteía es \"I\" seguimos, en el caso de que no, paramos\n",
    "        if(protein[i] in aa_deltaG):\n",
    "            if(i==0 and structure[i]!=\"I\"):\n",
    "                return dict()\n",
    "            \n",
    "            #Si la proteina es la I, como es el caso inicial suponemos que está en 0,0\n",
    "            if(structure[i] == \"I\"):\n",
    "                res[(0,0)]=protein[i]\n",
    "                \n",
    "            #En cualquier otro caso\n",
    "            else:\n",
    "                \n",
    "                #Si la estructura es una N, obtenemos las coordenadas del anterior y le sumamos 1 a la componente \"y\"\n",
    "                if(structure[i]==\"N\"):\n",
    "                    afterCords= [afterCords[0],afterCords[1]+1]\n",
    "                    newCords = tuple(afterCords)\n",
    "                \n",
    "                #Si la estructura es una N, obtenemos las coordenadas del anterior y le restamos 1 a la componente \"y\"\n",
    "                elif(structure[i]==\"S\"):\n",
    "                    afterCords= [afterCords[0],afterCords[1]-1]\n",
    "                    newCords = tuple(afterCords)\n",
    "                    \n",
    "                #Si la estructura es una N, obtenemos las coordenadas del anterior y le sumamos 1 a la componente \"x\"\n",
    "                elif(structure[i]==\"E\"):\n",
    "                    afterCords= [afterCords[0]+1,afterCords[1]]\n",
    "                    newCords = tuple(afterCords)\n",
    "                \n",
    "                #Si la estructura es una N, obtenemos las coordenadas del anterior y le restamos 1 a la componente \"x\"\n",
    "                elif(structure[i]==\"W\"):\n",
    "                    afterCords= [afterCords[0]-1,afterCords[1]]\n",
    "                    newCords = tuple(afterCords)\n",
    "                    \n",
    "                #En el caso de que las nuevas coordenadas no estén el diccionario las añadimos, en el caso de que estén,\n",
    "                #Significa que existe solapamiento, por tanto devolvemos uno vacío\n",
    "                if(newCords not in res):\n",
    "                    res[newCords]=protein[i]\n",
    "                else:\n",
    "                    return dict()\n",
    "        else:\n",
    "            return dict()\n",
    "    return res\n",
    "\n",
    "        "
   ]
  },
  {
   "cell_type": "code",
   "execution_count": 3,
   "metadata": {},
   "outputs": [
    {
     "data": {
      "text/plain": [
       "{(0, 0): 'A', (-1, 0): 'C', (-1, 1): 'D', (-1, 2): 'E', (-1, 3): 'F'}"
      ]
     },
     "execution_count": 3,
     "metadata": {},
     "output_type": "execute_result"
    }
   ],
   "source": [
    "get_spatial_dic(\"ACDEF\",\"IWNNN\")"
   ]
  },
  {
   "cell_type": "code",
   "execution_count": 4,
   "metadata": {},
   "outputs": [],
   "source": [
    "# Problema 2.1\n",
    "# input: aa \"aminoacid\" ej: \"A\", \"C\", \"D\",\n",
    "# output: True (hidrophobic) or false (hidrophilic)\n",
    "\n",
    "def is_hidrofobic(aa):\n",
    "    hidrophobic_limit = -1.5\n",
    "\n",
    "    return aa_deltaG[aa] > hidrophobic_limit"
   ]
  },
  {
   "cell_type": "code",
   "execution_count": 5,
   "metadata": {},
   "outputs": [
    {
     "name": "stdout",
     "output_type": "stream",
     "text": [
      "True\n",
      "False\n",
      "True\n"
     ]
    }
   ],
   "source": [
    "print(is_hidrofobic('A'))\n",
    "print(is_hidrofobic('D'))\n",
    "print(is_hidrofobic('S'))        "
   ]
  },
  {
   "cell_type": "code",
   "execution_count": 6,
   "metadata": {},
   "outputs": [],
   "source": [
    "# Problema 2.2\n",
    "# input: \n",
    "#    dic \"dictionary that represents 2d structure of the protein\" ej: {(0,0): A, (0,1): D ... }\n",
    "# output: score\n",
    "\n",
    "def get_N(dic, coords):\n",
    "    res = 0\n",
    "    x = coords[0]\n",
    "    y = coords[1]\n",
    "    \n",
    "    if ((x+1, y) not in dic):\n",
    "        res+=1\n",
    "    if ((x, y+1) not in dic):\n",
    "        res+=1\n",
    "    if ((x-1, y) not in dic):\n",
    "        res+=1\n",
    "    if ((x, y-1) not in dic):\n",
    "        res+=1\n",
    "        \n",
    "    return res\n",
    "\n",
    "def get_score(dic):\n",
    "    res = 0\n",
    "    for coords in dic:\n",
    "        \n",
    "        aminoacid = dic[coords]\n",
    "        N = get_N(dic,coords)\n",
    "        \n",
    "        res += aa_deltaG[aminoacid] * N\n",
    "        if is_hidrofobic(aminoacid):\n",
    "            res += 10 * N\n",
    "    return res"
   ]
  },
  {
   "cell_type": "code",
   "execution_count": 7,
   "metadata": {},
   "outputs": [
    {
     "data": {
      "text/plain": [
       "24"
      ]
     },
     "execution_count": 7,
     "metadata": {},
     "output_type": "execute_result"
    }
   ],
   "source": [
    "get_score({(0,0): \"A\", (0,1): \"D\"})"
   ]
  },
  {
   "cell_type": "code",
   "execution_count": 8,
   "metadata": {},
   "outputs": [],
   "source": [
    "def get_coords(structure):\n",
    "     #Si la estructura es una N, obtenemos las coordenadas del anterior y le sumamos 1 a la componente \"y\"\n",
    "    afterCords= (0,0)\n",
    "    coords = list()\n",
    "    coords.append(afterCords)\n",
    "    \n",
    "    #Cambiar\n",
    "    for i in range (1,len(structure)):\n",
    "        if(structure[i]==\"N\"):\n",
    "            afterCords= [afterCords[0],afterCords[1]+1]\n",
    "            newCords = tuple(afterCords)\n",
    "\n",
    "        #Si la estructura es una N, obtenemos las coordenadas del anterior y le restamos 1 a la componente \"y\"\n",
    "        elif(structure[i]==\"S\"):\n",
    "            afterCords= [afterCords[0],afterCords[1]-1]\n",
    "            newCords = tuple(afterCords)\n",
    "\n",
    "        #Si la estructura es una N, obtenemos las coordenadas del anterior y le sumamos 1 a la componente \"x\"\n",
    "        elif(structure[i]==\"E\"):\n",
    "            afterCords= [afterCords[0]+1,afterCords[1]]\n",
    "            newCords = tuple(afterCords)\n",
    "\n",
    "        #Si la estructura es una N, obtenemos las coordenadas del anterior y le restamos 1 a la componente \"x\"\n",
    "        elif(structure[i]==\"W\"):\n",
    "            afterCords= [afterCords[0]-1,afterCords[1]]\n",
    "            newCords = tuple(afterCords)\n",
    "        coords.append(newCords)\n",
    "    return coords"
   ]
  },
  {
   "cell_type": "code",
   "execution_count": 9,
   "metadata": {},
   "outputs": [
    {
     "data": {
      "text/plain": [
       "[(0, 0), (0, 1), (0, 2), (-1, 2)]"
      ]
     },
     "execution_count": 9,
     "metadata": {},
     "output_type": "execute_result"
    }
   ],
   "source": [
    "get_coords(\"INNW\")"
   ]
  },
  {
   "cell_type": "code",
   "execution_count": 10,
   "metadata": {},
   "outputs": [],
   "source": [
    "# Ejercicio 3\n",
    "\n",
    "\n",
    "def fold_backwards(direction):\n",
    "    if direction == \"N\":\n",
    "        return \"W\"\n",
    "    elif direction == \"W\":\n",
    "        return \"S\"\n",
    "    elif direction == \"S\":\n",
    "        return \"E\"\n",
    "    elif direction == \"E\":\n",
    "        return \"N\"\n",
    "    else:\n",
    "        return direction\n",
    "    \n",
    "def fold_forwards(direction):\n",
    "    if direction == \"N\":\n",
    "        return \"E\"\n",
    "    elif direction == \"W\":\n",
    "        return \"N\"\n",
    "    elif direction == \"S\":\n",
    "        return \"W\"\n",
    "    elif direction == \"E\":\n",
    "        return \"S\"\n",
    "    else:\n",
    "        return direction\n",
    "    \n",
    "def fold(structure, pos, angle):\n",
    "    coords = get_coords(structure)\n",
    "    \n",
    "    res = \"\"\n",
    "    folding = False\n",
    "    for i in range(0, len(coords)):\n",
    "        coord = coords[i]\n",
    "        direction = structure[i]\n",
    "        \n",
    "        if folding:\n",
    "            if angle == 90:\n",
    "                res += fold_backwards(direction)\n",
    "            if angle == -90:\n",
    "                res += fold_forwards(direction)\n",
    "        else:\n",
    "            res+= direction\n",
    "            \n",
    "        if coord == pos:\n",
    "            folding = True\n",
    "            \n",
    "    return res        "
   ]
  },
  {
   "cell_type": "code",
   "execution_count": 11,
   "metadata": {},
   "outputs": [
    {
     "data": {
      "text/plain": [
       "'INWS'"
      ]
     },
     "execution_count": 11,
     "metadata": {},
     "output_type": "execute_result"
    }
   ],
   "source": [
    "fold(\"INNW\", (0,1), 90)"
   ]
  },
  {
   "cell_type": "code",
   "execution_count": 12,
   "metadata": {},
   "outputs": [
    {
     "data": {
      "text/plain": [
       "'INEN'"
      ]
     },
     "execution_count": 12,
     "metadata": {},
     "output_type": "execute_result"
    }
   ],
   "source": [
    "fold(\"INNW\", (0,1), -90)"
   ]
  },
  {
   "cell_type": "code",
   "execution_count": 13,
   "metadata": {},
   "outputs": [],
   "source": [
    "# Ejercicio 3.2\n",
    "\n",
    "def get_successors(protein, structure):\n",
    "    coords = get_coords(structure)\n",
    "    \n",
    "    if len(protein) != len(structure):\n",
    "        return {}\n",
    "    \n",
    "    res = {}\n",
    "    for coord in coords:\n",
    "        folded_backwards = fold(structure, coord, 90)\n",
    "        folded_forwards = fold(structure, coord, -90)\n",
    "        \n",
    "        backwards_dic = get_spatial_dic(protein, folded_backwards)\n",
    "        forwards_dic = get_spatial_dic(protein, folded_forwards)\n",
    "        \n",
    "        print(backwards_dic)\n",
    "        print(forwards_dic)\n",
    "        \n",
    "        if backwards_dic:\n",
    "            res[folded_backwards] = backwards_dic\n",
    "            \n",
    "        if forwards_dic:\n",
    "            res[folded_forwards] = forwards_dic\n",
    "            \n",
    "    return res"
   ]
  },
  {
   "cell_type": "code",
   "execution_count": 14,
   "metadata": {},
   "outputs": [
    {
     "name": "stdout",
     "output_type": "stream",
     "text": [
      "{}\n",
      "{}\n",
      "{}\n",
      "{}\n",
      "{}\n",
      "{}\n",
      "{(0, 0): 'A', (0, 1): 'D', (-1, 1): 'A', (-1, 0): 'D', (-1, -1): 'D', (-2, -1): 'D', (-2, 0): 'D'}\n",
      "{}\n",
      "{(0, 0): 'A', (0, 1): 'D', (-1, 1): 'A', (-1, 0): 'D', (-2, 0): 'D', (-3, 0): 'D', (-3, 1): 'D'}\n",
      "{}\n",
      "{(0, 0): 'A', (0, 1): 'D', (-1, 1): 'A', (-1, 0): 'D', (-2, 0): 'D', (-2, 1): 'D', (-2, 2): 'D'}\n",
      "{}\n",
      "{}\n",
      "{}\n"
     ]
    },
    {
     "data": {
      "text/plain": [
       "{'INWSSWN': {(0, 0): 'A',\n",
       "  (0, 1): 'D',\n",
       "  (-1, 1): 'A',\n",
       "  (-1, 0): 'D',\n",
       "  (-1, -1): 'D',\n",
       "  (-2, -1): 'D',\n",
       "  (-2, 0): 'D'},\n",
       " 'INWSWWN': {(0, 0): 'A',\n",
       "  (0, 1): 'D',\n",
       "  (-1, 1): 'A',\n",
       "  (-1, 0): 'D',\n",
       "  (-2, 0): 'D',\n",
       "  (-3, 0): 'D',\n",
       "  (-3, 1): 'D'},\n",
       " 'INWSWNN': {(0, 0): 'A',\n",
       "  (0, 1): 'D',\n",
       "  (-1, 1): 'A',\n",
       "  (-1, 0): 'D',\n",
       "  (-2, 0): 'D',\n",
       "  (-2, 1): 'D',\n",
       "  (-2, 2): 'D'}}"
      ]
     },
     "execution_count": 14,
     "metadata": {},
     "output_type": "execute_result"
    }
   ],
   "source": [
    "get_successors(\"ADADDDD\", \"INWSWNE\")"
   ]
  },
  {
   "cell_type": "code",
   "execution_count": 123,
   "metadata": {},
   "outputs": [],
   "source": [
    "# Ejercicio 5.2\n",
    "\n",
    "def sort_hidrophobic_coords(spatial_dic):\n",
    "    res = {\"hidrophobic\": [], \"hidrophilic\": []}\n",
    "    \n",
    "    for coord in spatial_dic:\n",
    "        aminoacid = spatial_dic[coord]\n",
    "        \n",
    "        if is_hidrofobic(aminoacid):\n",
    "            res[\"hidrophobic\"].append(coord)\n",
    "        else:\n",
    "            res[\"hidrophilic\"].append(coord)\n",
    "        \n",
    "    return res\n",
    "\n",
    "def draw_protein(spatial_dic):\n",
    "    coords = spatial_dic.keys()\n",
    "    coords_sorted = sort_hidrophobic_coords(spatial_dic)\n",
    "\n",
    "    fig = plt.figure(figsize=(8, 8))\n",
    "    \n",
    "    # LINES\n",
    "    x, y = zip(*coords)\n",
    "    plt.plot(x, y, \"grey\", zorder=0)\n",
    "    \n",
    "    # HIDROPHOBIC\n",
    "    x, y = zip(*coords_sorted[\"hidrophobic\"])\n",
    "    plt.scatter(x, y, 500, color=\"#FF6F82\", label=\"hidrophobic\")\n",
    "    \n",
    "    # HIDROPHILIC\n",
    "    x, y = zip(*coords_sorted[\"hidrophilic\"])\n",
    "    plt.scatter(x, y, 500, color=\"#4ED1FF\", label=\"hidrophilic\")\n",
    "    \n",
    "    # LETTERS\n",
    "    x_shift = 0.04\n",
    "    y_shift = 0.03\n",
    "    for coord in coords:\n",
    "        aminoacid = spatial_dic[coord]\n",
    "        \n",
    "        x = coord[0] - x_shift\n",
    "        y = coord[1] - y_shift\n",
    "        plt.annotate(aminoacid, xy=(x,y), xytext=(x,y))\n",
    "\n",
    "    plt.axis(\"equal\")\n",
    "    plt.legend()\n",
    "    plt.show()"
   ]
  },
  {
   "cell_type": "code",
   "execution_count": 128,
   "metadata": {},
   "outputs": [
    {
     "name": "stdout",
     "output_type": "stream",
     "text": [
      "{(0, 0): 'A', (0, 1): 'C', (0, 2): 'D', (-1, 2): 'E', (-1, 1): 'A', (-2, 1): 'F'}\n"
     ]
    },
    {
     "data": {
      "text/plain": [
       "{'hidrophobic': [(0, 0), (0, 1), (-1, 1), (-2, 1)],\n",
       " 'hidrophilic': [(0, 2), (-1, 2)]}"
      ]
     },
     "execution_count": 128,
     "metadata": {},
     "output_type": "execute_result"
    }
   ],
   "source": [
    "spatial_dic = get_spatial_dic(\"ACDEAF\",\"INNWSW\")\n",
    "sort_hidrophobic_coords(spatial_dic)"
   ]
  },
  {
   "cell_type": "code",
   "execution_count": 133,
   "metadata": {},
   "outputs": [
    {
     "name": "stdout",
     "output_type": "stream",
     "text": [
      "{(0, 0): 'A', (0, 1): 'C', (0, 2): 'D', (-1, 2): 'E', (-1, 1): 'A', (-2, 1): 'F', (-2, 2): 'S', (-2, 3): 'D', (-2, 4): 'S', (-1, 4): 'G', (0, 4): 'F', (0, 5): 'L', (1, 5): 'K', (1, 4): 'Q', (2, 4): 'A'}\n"
     ]
    },
    {
     "data": {
      "image/png": "[encoded data removed]",
      "text/plain": [
       "<Figure size 576x576 with 1 Axes>"
      ]
     },
     "metadata": {
      "needs_background": "light"
     },
     "output_type": "display_data"
    }
   ],
   "source": [
    "\n",
    "spatial_dic = get_spatial_dic(\"ACDEAFSDSGFLKQA\",\n",
    "                              \"INNWSWNNNEENESE\")\n",
    "print(spatial_dic)\n",
    "draw_protein(spatial_dic)"
   ]
  },
  {
   "cell_type": "code",
   "execution_count": null,
   "metadata": {},
   "outputs": [],
   "source": []
  }
 ],
 "metadata": {
  "kernelspec": {
   "display_name": "Python 3",
   "language": "python",
   "name": "python3"
  },
  "language_info": {
   "codemirror_mode": {
    "name": "ipython",
    "version": 3
   },
   "file_extension": ".py",
   "mimetype": "text/x-python",
   "name": "python",
   "nbconvert_exporter": "python",
   "pygments_lexer": "ipython3",
   "version": "3.7.3"
  }
 },
 "nbformat": 4,
 "nbformat_minor": 5
}
