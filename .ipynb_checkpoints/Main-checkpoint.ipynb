{
 "cells": [
  {
   "cell_type": "code",
   "execution_count": 54,
   "id": "9eb451dc",
   "metadata": {},
   "outputs": [],
   "source": [
    "import matplotlib.pyplot as plt\n",
    "import random\n",
    "import math\n",
    "import sys\n",
    "import matplotlib as mpl"
   ]
  },
  {
   "cell_type": "code",
   "execution_count": 29,
   "id": "0be9d968",
   "metadata": {},
   "outputs": [],
   "source": [
    "aa_deltaG = { 'A': 1,   # Alanine\n",
    "             'C': 0.17,  # Cysteine\n",
    "             'D': -3,    # Aspartic Acid\n",
    "             'E': -2.6,  # Glutamic Acid\n",
    "             'F': 2.5,   # Phenylalanine\n",
    "             'G': 0.67,  # Glycine\n",
    "             'H': -1.7,  # Histidine\n",
    "             'I': 3.1,   # Isoleucine\n",
    "             'K': -4.6,  # Lysine\n",
    "             'L': 2.2,   # Leucine\n",
    "             'M': 1.1,   # Methionine\n",
    "             'N': -2.7,  # Asparagine\n",
    "             'P': -0.29, # Proline\n",
    "             'Q': -2.9,  # Glutamine\n",
    "             'R': -7.5,  # Arginine\n",
    "             'S': -1.1,  # Serine\n",
    "             'T': -0.75, # Threonine\n",
    "             'V': 2.3,   # Valine\n",
    "             'W': 1.5,   # Tryptophan\n",
    "             'Y': 0.08 } # Tyrosine"
   ]
  },
  {
   "cell_type": "code",
   "execution_count": 30,
   "id": "47549cba",
   "metadata": {},
   "outputs": [],
   "source": [
    "#Problema 1\n",
    "#protein = \"ACDEF...\"\n",
    "#estructura = \"INSWWE\"\n",
    "#res = (0,0)=[\"A\",\"C\"], (0,1)=\"B\"\n",
    "#Asumimos que protein y structure tienen la misma longitud y solo se puede hacer un movimiento por proteina.\n",
    "def get_spatial_dic(protein, structure): \n",
    "    \n",
    "    #Inicializamos el diccionario que devolveremos si no hay solapamientos\n",
    "    res = dict()\n",
    "    \n",
    "    #Las coordenadas por defecto de inicio son (x,y) = 0,0\n",
    "    afterCords= [0,0]\n",
    "    \n",
    "    #Recorremos la cadena de proteinas\n",
    "    for i in range (0,len(protein)):\n",
    "        \n",
    "        #Si la proteina está en delta entonces y la primera proteía es \"I\" seguimos, en el caso de que no, paramos\n",
    "        if(protein[i] in aa_deltaG):\n",
    "            if(i==0 and structure[i]!=\"I\"):\n",
    "                return dict()\n",
    "            \n",
    "            #Si la proteina es la I, como es el caso inicial suponemos que está en 0,0\n",
    "            if(structure[i] == \"I\"):\n",
    "                res[(0,0)]=protein[i]\n",
    "                \n",
    "            #En cualquier otro caso\n",
    "            else:\n",
    "                \n",
    "                #Si la estructura es una N, obtenemos las coordenadas del anterior y le sumamos 1 a la componente \"y\"\n",
    "                if(structure[i]==\"N\"):\n",
    "                    afterCords= [afterCords[0],afterCords[1]+1]\n",
    "                    newCords = tuple(afterCords)\n",
    "                \n",
    "                #Si la estructura es una N, obtenemos las coordenadas del anterior y le restamos 1 a la componente \"y\"\n",
    "                elif(structure[i]==\"S\"):\n",
    "                    afterCords= [afterCords[0],afterCords[1]-1]\n",
    "                    newCords = tuple(afterCords)\n",
    "                    \n",
    "                #Si la estructura es una N, obtenemos las coordenadas del anterior y le sumamos 1 a la componente \"x\"\n",
    "                elif(structure[i]==\"E\"):\n",
    "                    afterCords= [afterCords[0]+1,afterCords[1]]\n",
    "                    newCords = tuple(afterCords)\n",
    "                \n",
    "                #Si la estructura es una N, obtenemos las coordenadas del anterior y le restamos 1 a la componente \"x\"\n",
    "                elif(structure[i]==\"W\"):\n",
    "                    afterCords= [afterCords[0]-1,afterCords[1]]\n",
    "                    newCords = tuple(afterCords)\n",
    "                    \n",
    "                #En el caso de que las nuevas coordenadas no estén el diccionario las añadimos, en el caso de que estén,\n",
    "                #Significa que existe solapamiento, por tanto devolvemos uno vacío\n",
    "                if(newCords not in res):\n",
    "                    res[newCords]=protein[i]\n",
    "                else:\n",
    "                    return dict()\n",
    "        else:\n",
    "            return dict()\n",
    "    return res\n",
    "\n",
    "        "
   ]
  },
  {
   "cell_type": "code",
   "execution_count": 31,
   "id": "df14f784",
   "metadata": {},
   "outputs": [
    {
     "data": {
      "text/plain": [
       "{(0, 0): 'A', (-1, 0): 'C', (-1, 1): 'D', (-1, 2): 'E', (-1, 3): 'F'}"
      ]
     },
     "execution_count": 31,
     "metadata": {},
     "output_type": "execute_result"
    }
   ],
   "source": [
    "get_spatial_dic(\"ACDEF\",\"IWNNN\")"
   ]
  },
  {
   "cell_type": "code",
   "execution_count": 32,
   "id": "e186ee51",
   "metadata": {},
   "outputs": [],
   "source": [
    "# Problema 2.1\n",
    "# input: aa \"aminoacid\" ej: \"A\", \"C\", \"D\",\n",
    "# output: True (hidrophobic) or false (hidrophilic)\n",
    "\n",
    "def is_hidrofobic(aa):\n",
    "    hidrophobic_limit = -1.5\n",
    "\n",
    "    return aa_deltaG[aa] > hidrophobic_limit"
   ]
  },
  {
   "cell_type": "code",
   "execution_count": 33,
   "id": "c412cb41",
   "metadata": {},
   "outputs": [
    {
     "name": "stdout",
     "output_type": "stream",
     "text": [
      "True\n",
      "False\n",
      "True\n"
     ]
    }
   ],
   "source": [
    "print(is_hidrofobic('A'))\n",
    "print(is_hidrofobic('D'))\n",
    "print(is_hidrofobic('S'))        "
   ]
  },
  {
   "cell_type": "code",
   "execution_count": 34,
   "id": "eba3dca5",
   "metadata": {},
   "outputs": [],
   "source": [
    "# Problema 2.2\n",
    "# input: \n",
    "#    dic \"dictionary that represents 2d structure of the protein\" ej: {(0,0): A, (0,1): D ... }\n",
    "# output: score\n",
    "\n",
    "def get_N(dic, coords):\n",
    "    res = 0\n",
    "    x = coords[0]\n",
    "    y = coords[1]\n",
    "    \n",
    "    if ((x+1, y) not in dic):\n",
    "        res+=1\n",
    "    if ((x, y+1) not in dic):\n",
    "        res+=1\n",
    "    if ((x-1, y) not in dic):\n",
    "        res+=1\n",
    "    if ((x, y-1) not in dic):\n",
    "        res+=1\n",
    "        \n",
    "    return res\n",
    "\n",
    "def get_score(dic):\n",
    "    res = 0\n",
    "    for coords in dic:\n",
    "        \n",
    "        aminoacid = dic[coords]\n",
    "        N = get_N(dic,coords)\n",
    "        \n",
    "        res += aa_deltaG[aminoacid] * N\n",
    "        if is_hidrofobic(aminoacid):\n",
    "            res += 10 * N\n",
    "    return res"
   ]
  },
  {
   "cell_type": "code",
   "execution_count": 35,
   "id": "da641dbf",
   "metadata": {},
   "outputs": [
    {
     "data": {
      "text/plain": [
       "24"
      ]
     },
     "execution_count": 35,
     "metadata": {},
     "output_type": "execute_result"
    }
   ],
   "source": [
    "get_score({(0,0): \"A\", (0,1): \"D\"})"
   ]
  },
  {
   "cell_type": "code",
   "execution_count": 36,
   "id": "03d7d9b4",
   "metadata": {},
   "outputs": [],
   "source": [
    "def get_coords(structure):\n",
    "     #Si la estructura es una N, obtenemos las coordenadas del anterior y le sumamos 1 a la componente \"y\"\n",
    "    afterCords= (0,0)\n",
    "    coords = list()\n",
    "    coords.append(afterCords)\n",
    "    \n",
    "    #Cambiar\n",
    "    for i in range (1,len(structure)):\n",
    "        if(structure[i]==\"N\"):\n",
    "            afterCords= [afterCords[0],afterCords[1]+1]\n",
    "            newCords = tuple(afterCords)\n",
    "\n",
    "        #Si la estructura es una N, obtenemos las coordenadas del anterior y le restamos 1 a la componente \"y\"\n",
    "        elif(structure[i]==\"S\"):\n",
    "            afterCords= [afterCords[0],afterCords[1]-1]\n",
    "            newCords = tuple(afterCords)\n",
    "\n",
    "        #Si la estructura es una N, obtenemos las coordenadas del anterior y le sumamos 1 a la componente \"x\"\n",
    "        elif(structure[i]==\"E\"):\n",
    "            afterCords= [afterCords[0]+1,afterCords[1]]\n",
    "            newCords = tuple(afterCords)\n",
    "\n",
    "        #Si la estructura es una N, obtenemos las coordenadas del anterior y le restamos 1 a la componente \"x\"\n",
    "        elif(structure[i]==\"W\"):\n",
    "            afterCords= [afterCords[0]-1,afterCords[1]]\n",
    "            newCords = tuple(afterCords)\n",
    "        coords.append(newCords)\n",
    "    return coords"
   ]
  },
  {
   "cell_type": "code",
   "execution_count": 37,
   "id": "1b79654b",
   "metadata": {},
   "outputs": [
    {
     "data": {
      "text/plain": [
       "[(0, 0), (0, 1), (0, 2), (-1, 2)]"
      ]
     },
     "execution_count": 37,
     "metadata": {},
     "output_type": "execute_result"
    }
   ],
   "source": [
    "get_coords(\"INNW\")"
   ]
  },
  {
   "cell_type": "code",
   "execution_count": 38,
   "id": "87efc3a7",
   "metadata": {},
   "outputs": [],
   "source": [
    "# Ejercicio 3\n",
    "\n",
    "\n",
    "def fold_backwards(direction):\n",
    "    if direction == \"N\":\n",
    "        return \"W\"\n",
    "    elif direction == \"W\":\n",
    "        return \"S\"\n",
    "    elif direction == \"S\":\n",
    "        return \"E\"\n",
    "    elif direction == \"E\":\n",
    "        return \"N\"\n",
    "    else:\n",
    "        return direction\n",
    "    \n",
    "def fold_forwards(direction):\n",
    "    if direction == \"N\":\n",
    "        return \"E\"\n",
    "    elif direction == \"W\":\n",
    "        return \"N\"\n",
    "    elif direction == \"S\":\n",
    "        return \"W\"\n",
    "    elif direction == \"E\":\n",
    "        return \"S\"\n",
    "    else:\n",
    "        return direction\n",
    "    \n",
    "def fold(structure, pos, angle):\n",
    "    coords = get_coords(structure)\n",
    "    \n",
    "    res = \"\"\n",
    "    folding = False\n",
    "    for i in range(0, len(coords)):\n",
    "        coord = coords[i]\n",
    "        direction = structure[i]\n",
    "        \n",
    "        if folding:\n",
    "            if angle == 90:\n",
    "                res += fold_backwards(direction)\n",
    "            if angle == -90:\n",
    "                res += fold_forwards(direction)\n",
    "        else:\n",
    "            res+= direction\n",
    "            \n",
    "        if coord == pos:\n",
    "            folding = True\n",
    "            \n",
    "    return res        "
   ]
  },
  {
   "cell_type": "code",
   "execution_count": 39,
   "id": "246ab079",
   "metadata": {},
   "outputs": [
    {
     "data": {
      "text/plain": [
       "'INWS'"
      ]
     },
     "execution_count": 39,
     "metadata": {},
     "output_type": "execute_result"
    }
   ],
   "source": [
    "fold(\"INNW\", (0,1), 90)"
   ]
  },
  {
   "cell_type": "code",
   "execution_count": 40,
   "id": "7a662f0b",
   "metadata": {},
   "outputs": [
    {
     "data": {
      "text/plain": [
       "'INEN'"
      ]
     },
     "execution_count": 40,
     "metadata": {},
     "output_type": "execute_result"
    }
   ],
   "source": [
    "fold(\"INNW\", (0,1), -90)"
   ]
  },
  {
   "cell_type": "code",
   "execution_count": 41,
   "id": "0ec39262",
   "metadata": {},
   "outputs": [],
   "source": [
    "# Ejercicio 3.2\n",
    "\n",
    "def get_successors(protein, structure):\n",
    "    coords = get_coords(structure)\n",
    "    \n",
    "    if len(protein) != len(structure):\n",
    "        return {}\n",
    "    \n",
    "    res = {}\n",
    "    for coord in coords:\n",
    "        folded_backwards = fold(structure, coord, 90)\n",
    "        folded_forwards = fold(structure, coord, -90)\n",
    "        \n",
    "        backwards_dic = get_spatial_dic(protein, folded_backwards)\n",
    "        forwards_dic = get_spatial_dic(protein, folded_forwards)\n",
    "        \n",
    "        if backwards_dic:\n",
    "            res[folded_backwards] = backwards_dic\n",
    "            \n",
    "        if forwards_dic:\n",
    "            res[folded_forwards] = forwards_dic\n",
    "            \n",
    "    return res"
   ]
  },
  {
   "cell_type": "code",
   "execution_count": 42,
   "id": "55d717a9",
   "metadata": {},
   "outputs": [
    {
     "name": "stdout",
     "output_type": "stream",
     "text": [
      "{'INNN': {(0, 0): 'L', (0, 1): 'K', (0, 2): 'H', (0, 3): 'R'}, 'ISSS': {(0, 0): 'L', (0, -1): 'K', (0, -2): 'H', (0, -3): 'R'}, 'IENN': {(0, 0): 'L', (1, 0): 'K', (1, 1): 'H', (1, 2): 'R'}, 'IESS': {(0, 0): 'L', (1, 0): 'K', (1, -1): 'H', (1, -2): 'R'}, 'IEEN': {(0, 0): 'L', (1, 0): 'K', (2, 0): 'H', (2, 1): 'R'}, 'IEES': {(0, 0): 'L', (1, 0): 'K', (2, 0): 'H', (2, -1): 'R'}, 'IEEE': {(0, 0): 'L', (1, 0): 'K', (2, 0): 'H', (3, 0): 'R'}}\n"
     ]
    }
   ],
   "source": [
    "protein = ['L','K','H','R']\n",
    "structure = ['I','E','E','E']\n",
    "res = get_successors(protein,structure)\n",
    "print(res)"
   ]
  },
  {
   "cell_type": "code",
   "execution_count": 43,
   "id": "94f70cdf",
   "metadata": {},
   "outputs": [
    {
     "data": {
      "text/plain": [
       "{'INWSSWN': {(0, 0): 'A',\n",
       "  (0, 1): 'D',\n",
       "  (-1, 1): 'A',\n",
       "  (-1, 0): 'D',\n",
       "  (-1, -1): 'D',\n",
       "  (-2, -1): 'D',\n",
       "  (-2, 0): 'D'},\n",
       " 'INWSWWN': {(0, 0): 'A',\n",
       "  (0, 1): 'D',\n",
       "  (-1, 1): 'A',\n",
       "  (-1, 0): 'D',\n",
       "  (-2, 0): 'D',\n",
       "  (-3, 0): 'D',\n",
       "  (-3, 1): 'D'},\n",
       " 'INWSWNN': {(0, 0): 'A',\n",
       "  (0, 1): 'D',\n",
       "  (-1, 1): 'A',\n",
       "  (-1, 0): 'D',\n",
       "  (-2, 0): 'D',\n",
       "  (-2, 1): 'D',\n",
       "  (-2, 2): 'D'}}"
      ]
     },
     "execution_count": 43,
     "metadata": {},
     "output_type": "execute_result"
    }
   ],
   "source": [
    "get_successors(\"ADADDDD\", \"INWSWNE\")"
   ]
  },
  {
   "cell_type": "code",
   "execution_count": 44,
   "id": "085110ce",
   "metadata": {},
   "outputs": [],
   "source": [
    "# Ejercicio 4\n",
    "\n",
    "def simmulating_annealing(protein):\n",
    "    T_0 = 50\n",
    "    L = 150\n",
    "    T_f = 0.5\n",
    "    \n",
    "    T = T_0\n",
    "    actual_structure = \"I\" + \"N\" * (len(protein) - 1)\n",
    "    actual_score = 0\n",
    "    \n",
    "    while T >= T_f:\n",
    "        \n",
    "        for i in range(1,L+1):\n",
    "            candidate_structure_dic = get_successors(protein, actual_structure)\n",
    "            x = random.randint(0, len(candidate_structure_dic)-1)\n",
    "            keys = list(candidate_structure_dic.keys())\n",
    "            candidate_structure = keys[x]\n",
    "            \n",
    "            candidate_dic = get_spatial_dic(protein, candidate_structure)\n",
    "            actual_dic = get_spatial_dic(protein, actual_structure)\n",
    "            actual_score = get_score(actual_dic)\n",
    "            candidate_score = get_score(candidate_dic)\n",
    "            delta = candidate_score - actual_score\n",
    "            \n",
    "            if random.random() < math.pow(math.e, -delta/T) or delta < 0:\n",
    "                actual_structure = candidate_structure\n",
    "        \n",
    "        print(\"Score: \" + str(actual_score))\n",
    "        print(T)\n",
    "        T = T / 2\n",
    "        \n",
    "    return actual_structure"
   ]
  },
  {
   "cell_type": "code",
   "execution_count": 45,
   "id": "3ab655db",
   "metadata": {},
   "outputs": [],
   "source": [
    "def simmulating_annealing_with_graphs(protein):\n",
    "    T_0 = 200\n",
    "    L = 150\n",
    "    T_f = 0.5\n",
    "    \n",
    "    T = T_0\n",
    "    actual_structure = \"I\" + \"N\" * (len(protein) - 1)\n",
    "    actual_score = 0\n",
    "    \n",
    "    #FIREWALL\n",
    "    last_score = 0\n",
    "    same_score_iterations = 0 \n",
    "    \n",
    "    #GRAPH\n",
    "    plt_score_it = 0\n",
    "    plt_temp_it = 1\n",
    "    plt_score = []\n",
    "    plt_temp = [T_0]\n",
    "    \n",
    "    while T >= T_f:\n",
    "        \n",
    "        for i in range(1,L+1):\n",
    "            \n",
    "            candidate_structure_dic = get_successors(protein, actual_structure)\n",
    "            x = random.randint(0, len(candidate_structure_dic)-1)\n",
    "            keys = list(candidate_structure_dic.keys())\n",
    "            candidate_structure = keys[x]\n",
    "            \n",
    "            candidate_dic = get_spatial_dic(protein, candidate_structure)\n",
    "            actual_dic = get_spatial_dic(protein, actual_structure)\n",
    "            actual_score = get_score(actual_dic)\n",
    "            candidate_score = get_score(candidate_dic)\n",
    "            delta = candidate_score - actual_score\n",
    "            \n",
    "            if random.random() < math.pow(math.e, -delta/T) or delta < 0:\n",
    "                actual_structure = candidate_structure\n",
    "            \n",
    "            #FIREWALL\n",
    "            if last_score-2 < actual_score or actual_score > last_score+2:\n",
    "                same_score_iterations += 1\n",
    "            else:\n",
    "                same_score_iterations = 0\n",
    "            \n",
    "            # break\n",
    "            if same_score_iterations > L:\n",
    "                T = T_f\n",
    "                \n",
    "            last_score = actual_score\n",
    "            \n",
    "            #GRAPH\n",
    "            plt_score.append(actual_score)\n",
    "            plt_score_it+=1\n",
    "            \n",
    "        print(\"Score: \" + str(actual_score))\n",
    "        print(\"Temperature: \" + str(T))\n",
    "        T = T / 2\n",
    "        \n",
    "        #GRAPH\n",
    "        plt_temp.append(T)\n",
    "        plt_temp_it+=1\n",
    "    \n",
    "    #GRAPH\n",
    "    fig, (ax1, ax2) = plt.subplots(2,1, figsize=(10,7))\n",
    "    ax1.title.set_text(\"Score\")\n",
    "    ax1.plot(range(0, plt_score_it) , plt_score, \"blue\")\n",
    "    ax2.title.set_text(\"Temperature\")\n",
    "    ax2.plot(range(0, plt_temp_it), plt_temp, \"orange\")\n",
    "    \n",
    "    return actual_structure"
   ]
  },
  {
   "cell_type": "code",
   "execution_count": 47,
   "id": "5754d165",
   "metadata": {},
   "outputs": [
    {
     "name": "stdout",
     "output_type": "stream",
     "text": [
      "Score: 165.21\n",
      "Temperature: 200\n",
      "Score: 148.41000000000003\n",
      "Temperature: 100.0\n",
      "Score: 201.41\n",
      "Temperature: 50.0\n",
      "Score: 110.07\n",
      "Temperature: 25.0\n",
      "Score: 67.97\n",
      "Temperature: 12.5\n",
      "Score: 86.64\n",
      "Temperature: 0.5\n",
      "IWSWNWNNWSSSSEN\n",
      "{(0, 0): 'A', (-1, 0): 'C', (-1, -1): 'D', (-2, -1): 'E', (-2, 0): 'A', (-3, 0): 'F', (-3, 1): 'S', (-3, 2): 'D', (-4, 2): 'S', (-4, 1): 'G', (-4, 0): 'F', (-4, -1): 'L', (-4, -2): 'K', (-3, -2): 'Q', (-3, -1): 'A'}\n"
     ]
    },
    {
     "ename": "NameError",
     "evalue": "name 'draw_protein' is not defined",
     "output_type": "error",
     "traceback": [
      "\u001b[1;31m---------------------------------------------------------------------------\u001b[0m",
      "\u001b[1;31mNameError\u001b[0m                                 Traceback (most recent call last)",
      "\u001b[1;32mC:\\Users\\PABLOR~1\\AppData\\Local\\Temp/ipykernel_38024/2654000448.py\u001b[0m in \u001b[0;36m<module>\u001b[1;34m\u001b[0m\n\u001b[0;32m      7\u001b[0m                               structure)\n\u001b[0;32m      8\u001b[0m \u001b[0mprint\u001b[0m\u001b[1;33m(\u001b[0m\u001b[0mspatial_dic\u001b[0m\u001b[1;33m)\u001b[0m\u001b[1;33m\u001b[0m\u001b[1;33m\u001b[0m\u001b[0m\n\u001b[1;32m----> 9\u001b[1;33m \u001b[0mdraw_protein\u001b[0m\u001b[1;33m(\u001b[0m\u001b[0mspatial_dic\u001b[0m\u001b[1;33m)\u001b[0m\u001b[1;33m\u001b[0m\u001b[1;33m\u001b[0m\u001b[0m\n\u001b[0m",
      "\u001b[1;31mNameError\u001b[0m: name 'draw_protein' is not defined"
     ]
    },
    {
     "data": {
      "image/png": "[encoded data removed]",
      "text/plain": [
       "<Figure size 720x504 with 2 Axes>"
      ]
     },
     "metadata": {
      "needs_background": "light"
     },
     "output_type": "display_data"
    }
   ],
   "source": [
    "# (\"ACDEAFSDSGFLKQA\", \"INNWSWNNNEENESE\")\n",
    "\n",
    "structure = simmulating_annealing_with_graphs(\"ACDEAFSDSGFLKQA\")\n",
    "print(structure)\n",
    "\n",
    "spatial_dic = get_spatial_dic(\"ACDEAFSDSGFLKQA\",\n",
    "                              structure)\n",
    "print(spatial_dic)\n",
    "draw_protein(spatial_dic)"
   ]
  },
  {
   "cell_type": "code",
   "execution_count": null,
   "id": "ea1e5884",
   "metadata": {},
   "outputs": [],
   "source": [
    "# Ejemplo 2\n",
    "insulin = 'MALWMRLLPLLALLALWGPDPAAAFVNQHLCGSHLVEALYLVCGERGFFYTPKTRREAEDLQVGQVELGGGPGAGSLQPLALEGSLQKRGIVEQCCTSICSLYQLENYCN'\n",
    "\n",
    "structure = simmulating_annealing_with_graphs(insulin)\n",
    "print(structure)\n",
    "\n",
    "spatial_dic = get_spatial_dic(insulin,\n",
    "                              structure)\n",
    "\n",
    "draw_protein(spatial_dic)"
   ]
  },
  {
   "cell_type": "code",
   "execution_count": 48,
   "id": "236e7fa1",
   "metadata": {
    "scrolled": true
   },
   "outputs": [
    {
     "ename": "KeyboardInterrupt",
     "evalue": "",
     "output_type": "error",
     "traceback": [
      "\u001b[1;31m---------------------------------------------------------------------------\u001b[0m",
      "\u001b[1;31mKeyboardInterrupt\u001b[0m                         Traceback (most recent call last)",
      "\u001b[1;32mC:\\Users\\PABLOR~1\\AppData\\Local\\Temp/ipykernel_38024/3110571033.py\u001b[0m in \u001b[0;36m<module>\u001b[1;34m\u001b[0m\n\u001b[0;32m      3\u001b[0m \u001b[0mestructuraCorreo\u001b[0m \u001b[1;33m=\u001b[0m \u001b[1;34m\"ISWNWWNNWNWNEESESSENENNNWSWNWNWSWNWSSSWNNWNENNENWNWSWSESWWNNNNNEENWNNESEESWSSENEEESWWSEESWSESESENNESSENNNNNWSWNWNEENWWWNWSWNNNESENNNWSWNNEEESSSENESSWSEENEESSENNNWWNWNENESSENESSEEESWWWSSEENESSWWSESSENNESENNENESSWSSESESWWNWNWSWWWSWWWSEESENENESENESSWWWSWWSSSSSESENNWNNNEEESWWSESSENNESSSENENWNNWNENNNESENENNNESSSSSWN\"\u001b[0m\u001b[1;33m\u001b[0m\u001b[1;33m\u001b[0m\u001b[0m\n\u001b[0;32m      4\u001b[0m \u001b[1;33m\u001b[0m\u001b[0m\n\u001b[1;32m----> 5\u001b[1;33m \u001b[0mstructure\u001b[0m \u001b[1;33m=\u001b[0m \u001b[0msimmulating_annealing\u001b[0m\u001b[1;33m(\u001b[0m\u001b[0mproteinaCorreo\u001b[0m\u001b[1;33m)\u001b[0m\u001b[1;33m\u001b[0m\u001b[1;33m\u001b[0m\u001b[0m\n\u001b[0m\u001b[0;32m      6\u001b[0m \u001b[0mprint\u001b[0m\u001b[1;33m(\u001b[0m\u001b[0mstructure\u001b[0m\u001b[1;33m)\u001b[0m\u001b[1;33m\u001b[0m\u001b[1;33m\u001b[0m\u001b[0m\n\u001b[0;32m      7\u001b[0m \u001b[1;33m\u001b[0m\u001b[0m\n",
      "\u001b[1;32mC:\\Users\\PABLOR~1\\AppData\\Local\\Temp/ipykernel_38024/2275444685.py\u001b[0m in \u001b[0;36msimmulating_annealing\u001b[1;34m(protein)\u001b[0m\n\u001b[0;32m     13\u001b[0m \u001b[1;33m\u001b[0m\u001b[0m\n\u001b[0;32m     14\u001b[0m         \u001b[1;32mfor\u001b[0m \u001b[0mi\u001b[0m \u001b[1;32min\u001b[0m \u001b[0mrange\u001b[0m\u001b[1;33m(\u001b[0m\u001b[1;36m1\u001b[0m\u001b[1;33m,\u001b[0m\u001b[0mL\u001b[0m\u001b[1;33m+\u001b[0m\u001b[1;36m1\u001b[0m\u001b[1;33m)\u001b[0m\u001b[1;33m:\u001b[0m\u001b[1;33m\u001b[0m\u001b[1;33m\u001b[0m\u001b[0m\n\u001b[1;32m---> 15\u001b[1;33m             \u001b[0mcandidate_structure_dic\u001b[0m \u001b[1;33m=\u001b[0m \u001b[0mget_successors\u001b[0m\u001b[1;33m(\u001b[0m\u001b[0mprotein\u001b[0m\u001b[1;33m,\u001b[0m \u001b[0mactual_structure\u001b[0m\u001b[1;33m)\u001b[0m\u001b[1;33m\u001b[0m\u001b[1;33m\u001b[0m\u001b[0m\n\u001b[0m\u001b[0;32m     16\u001b[0m             \u001b[0mx\u001b[0m \u001b[1;33m=\u001b[0m \u001b[0mrandom\u001b[0m\u001b[1;33m.\u001b[0m\u001b[0mrandint\u001b[0m\u001b[1;33m(\u001b[0m\u001b[1;36m0\u001b[0m\u001b[1;33m,\u001b[0m \u001b[0mlen\u001b[0m\u001b[1;33m(\u001b[0m\u001b[0mcandidate_structure_dic\u001b[0m\u001b[1;33m)\u001b[0m\u001b[1;33m-\u001b[0m\u001b[1;36m1\u001b[0m\u001b[1;33m)\u001b[0m\u001b[1;33m\u001b[0m\u001b[1;33m\u001b[0m\u001b[0m\n\u001b[0;32m     17\u001b[0m             \u001b[0mkeys\u001b[0m \u001b[1;33m=\u001b[0m \u001b[0mlist\u001b[0m\u001b[1;33m(\u001b[0m\u001b[0mcandidate_structure_dic\u001b[0m\u001b[1;33m.\u001b[0m\u001b[0mkeys\u001b[0m\u001b[1;33m(\u001b[0m\u001b[1;33m)\u001b[0m\u001b[1;33m)\u001b[0m\u001b[1;33m\u001b[0m\u001b[1;33m\u001b[0m\u001b[0m\n",
      "\u001b[1;32mC:\\Users\\PABLOR~1\\AppData\\Local\\Temp/ipykernel_38024/1161707802.py\u001b[0m in \u001b[0;36mget_successors\u001b[1;34m(protein, structure)\u001b[0m\n\u001b[0;32m      9\u001b[0m     \u001b[0mres\u001b[0m \u001b[1;33m=\u001b[0m \u001b[1;33m{\u001b[0m\u001b[1;33m}\u001b[0m\u001b[1;33m\u001b[0m\u001b[1;33m\u001b[0m\u001b[0m\n\u001b[0;32m     10\u001b[0m     \u001b[1;32mfor\u001b[0m \u001b[0mcoord\u001b[0m \u001b[1;32min\u001b[0m \u001b[0mcoords\u001b[0m\u001b[1;33m:\u001b[0m\u001b[1;33m\u001b[0m\u001b[1;33m\u001b[0m\u001b[0m\n\u001b[1;32m---> 11\u001b[1;33m         \u001b[0mfolded_backwards\u001b[0m \u001b[1;33m=\u001b[0m \u001b[0mfold\u001b[0m\u001b[1;33m(\u001b[0m\u001b[0mstructure\u001b[0m\u001b[1;33m,\u001b[0m \u001b[0mcoord\u001b[0m\u001b[1;33m,\u001b[0m \u001b[1;36m90\u001b[0m\u001b[1;33m)\u001b[0m\u001b[1;33m\u001b[0m\u001b[1;33m\u001b[0m\u001b[0m\n\u001b[0m\u001b[0;32m     12\u001b[0m         \u001b[0mfolded_forwards\u001b[0m \u001b[1;33m=\u001b[0m \u001b[0mfold\u001b[0m\u001b[1;33m(\u001b[0m\u001b[0mstructure\u001b[0m\u001b[1;33m,\u001b[0m \u001b[0mcoord\u001b[0m\u001b[1;33m,\u001b[0m \u001b[1;33m-\u001b[0m\u001b[1;36m90\u001b[0m\u001b[1;33m)\u001b[0m\u001b[1;33m\u001b[0m\u001b[1;33m\u001b[0m\u001b[0m\n\u001b[0;32m     13\u001b[0m \u001b[1;33m\u001b[0m\u001b[0m\n",
      "\u001b[1;32mC:\\Users\\PABLOR~1\\AppData\\Local\\Temp/ipykernel_38024/2469373595.py\u001b[0m in \u001b[0;36mfold\u001b[1;34m(structure, pos, angle)\u001b[0m\n\u001b[0;32m     27\u001b[0m \u001b[1;33m\u001b[0m\u001b[0m\n\u001b[0;32m     28\u001b[0m \u001b[1;32mdef\u001b[0m \u001b[0mfold\u001b[0m\u001b[1;33m(\u001b[0m\u001b[0mstructure\u001b[0m\u001b[1;33m,\u001b[0m \u001b[0mpos\u001b[0m\u001b[1;33m,\u001b[0m \u001b[0mangle\u001b[0m\u001b[1;33m)\u001b[0m\u001b[1;33m:\u001b[0m\u001b[1;33m\u001b[0m\u001b[1;33m\u001b[0m\u001b[0m\n\u001b[1;32m---> 29\u001b[1;33m     \u001b[0mcoords\u001b[0m \u001b[1;33m=\u001b[0m \u001b[0mget_coords\u001b[0m\u001b[1;33m(\u001b[0m\u001b[0mstructure\u001b[0m\u001b[1;33m)\u001b[0m\u001b[1;33m\u001b[0m\u001b[1;33m\u001b[0m\u001b[0m\n\u001b[0m\u001b[0;32m     30\u001b[0m \u001b[1;33m\u001b[0m\u001b[0m\n\u001b[0;32m     31\u001b[0m     \u001b[0mres\u001b[0m \u001b[1;33m=\u001b[0m \u001b[1;34m\"\"\u001b[0m\u001b[1;33m\u001b[0m\u001b[1;33m\u001b[0m\u001b[0m\n",
      "\u001b[1;32mC:\\Users\\PABLOR~1\\AppData\\Local\\Temp/ipykernel_38024/3835819736.py\u001b[0m in \u001b[0;36mget_coords\u001b[1;34m(structure)\u001b[0m\n\u001b[0;32m     25\u001b[0m             \u001b[0mafterCords\u001b[0m\u001b[1;33m=\u001b[0m \u001b[1;33m[\u001b[0m\u001b[0mafterCords\u001b[0m\u001b[1;33m[\u001b[0m\u001b[1;36m0\u001b[0m\u001b[1;33m]\u001b[0m\u001b[1;33m-\u001b[0m\u001b[1;36m1\u001b[0m\u001b[1;33m,\u001b[0m\u001b[0mafterCords\u001b[0m\u001b[1;33m[\u001b[0m\u001b[1;36m1\u001b[0m\u001b[1;33m]\u001b[0m\u001b[1;33m]\u001b[0m\u001b[1;33m\u001b[0m\u001b[1;33m\u001b[0m\u001b[0m\n\u001b[0;32m     26\u001b[0m             \u001b[0mnewCords\u001b[0m \u001b[1;33m=\u001b[0m \u001b[0mtuple\u001b[0m\u001b[1;33m(\u001b[0m\u001b[0mafterCords\u001b[0m\u001b[1;33m)\u001b[0m\u001b[1;33m\u001b[0m\u001b[1;33m\u001b[0m\u001b[0m\n\u001b[1;32m---> 27\u001b[1;33m         \u001b[0mcoords\u001b[0m\u001b[1;33m.\u001b[0m\u001b[0mappend\u001b[0m\u001b[1;33m(\u001b[0m\u001b[0mnewCords\u001b[0m\u001b[1;33m)\u001b[0m\u001b[1;33m\u001b[0m\u001b[1;33m\u001b[0m\u001b[0m\n\u001b[0m\u001b[0;32m     28\u001b[0m     \u001b[1;32mreturn\u001b[0m \u001b[0mcoords\u001b[0m\u001b[1;33m\u001b[0m\u001b[1;33m\u001b[0m\u001b[0m\n",
      "\u001b[1;31mKeyboardInterrupt\u001b[0m: "
     ]
    }
   ],
   "source": [
    "# Ejemplo 1\n",
    "proteinaCorreo = \"MPNSTTVMEFLLMRFSDVWTLQILHSASFFMLYLVTLMGNILIVTVTTCDSSLHMPMYFFLRNLSILDACYISVTVPTSCVNSLLDSTTISKAGCVAQVFLVVFFVYVELLFLTIMAHDRYVAVCQPLHYPVIVNSRICIQMTLASLLSGLVYAGMHTGSTFQLPFCRSNVIHQFFCDIPSLLKLSCSDTFSNEVMIVVSALGVGGGCFIFIIRSYIHIFSTVLGFPRGADRTKAFSTCIPHILVVSVFLSSCSSVYLRPPAIPAATQDLILSGFYSIMPPLFNPIIYSLRNKQIKVAIKKIMKRIFYSENV\"\n",
    "estructuraCorreo = \"ISWNWWNNWNWNEESESSENENNNWSWNWNWSWNWSSSWNNWNENNENWNWSWSESWWNNNNNEENWNNESEESWSSENEEESWWSEESWSESESENNESSENNNNNWSWNWNEENWWWNWSWNNNESENNNWSWNNEEESSSENESSWSEENEESSENNNWWNWNENESSENESSEEESWWWSSEENESSWWSESSENNESENNENESSWSSESESWWNWNWSWWWSWWWSEESENENESENESSWWWSWWSSSSSESENNWNNNEEESWWSESSENNESSSENENWNNWNENNNESENENNNESSSSSWN\"\n",
    "\n",
    "structure = simmulating_annealing(proteinaCorreo)\n",
    "print(structure)\n",
    "\n",
    "spatial_dic = get_spatial_dic(proteinaCorreo,\n",
    "                              structure)\n",
    "\n",
    "print(spatial_dic)\n",
    "draw_protein(spatial_dic)"
   ]
  },
  {
   "cell_type": "code",
   "execution_count": null,
   "id": "fe37161d",
   "metadata": {},
   "outputs": [],
   "source": [
    "spatial_dic = get_spatial_dic(\"MPNSTTVMEFLLMRFSDVWTLQILHSASFFMLYLVTLMGNILIVTVTTCDSSLHMPMYFFLRNLSILDACYISVTVPTSCVNSLLDSTTISKAGCVAQVFLVVFFVYVELLFLTIMAHDRYVAVCQPLHYPVIVNSRICIQMTLASLLSGLVYAGMHTGSTFQLPFCRSNVIHQFFCDIPSLLKLSCSDTFSNEVMIVVSALGVGGGCFIFIIRSYIHIFSTVLGFPRGADRTKAFSTCIPHILVVSVFLSSCSSVYLRPPAIPAATQDLILSGFYSIMPPLFNPIIYSLRNKQIKVAIKKIMKRIFYSENV\",\n",
    "                              \"IEENWNENWWSSWNWNNEENNWNEENEENWWWWWSSSSWWNNNENNEEEEEEEENNNNNNNWSSSWSWSESWWWWWWNEENNWSWNWSSWNWSWSEEESWWSWWWSEESWWWWSEEESWWWSEEEEEESWWWWWSWNWNWWNENWWSSSSSWWSSSWNNNNEENWNENNWWWSSSWWNNNNEEENWWWWSWWSSSSWWWWWWSESSENEEENESSSENNNNNESSEEESSSSSWSEEEEENNWNEESSEESWWSEEENEEEENWWWNNENNNESSSENNNESENENESSSSWNWSSESSEESSWWWNNNWNN\")\n",
    "draw_protein(spatial_dic)"
   ]
  },
  {
   "cell_type": "code",
   "execution_count": null,
   "id": "555922f7",
   "metadata": {},
   "outputs": [],
   "source": [
    "get_spatial_dic(\"ACDEAFSDSGFLKQA\", 'IWWWWWWWWWWWWWW')"
   ]
  },
  {
   "cell_type": "code",
   "execution_count": 51,
   "id": "557dde69",
   "metadata": {},
   "outputs": [],
   "source": [
    "# Ejercicio 5.2\n",
    "\n",
    "def sort_hidrophobic_coords(spatial_dic):\n",
    "    res = {\"hidrophobic\": [], \"hidrophilic\": []}\n",
    "    \n",
    "    for coord in spatial_dic:\n",
    "        aminoacid = spatial_dic[coord]\n",
    "        \n",
    "        if is_hidrofobic(aminoacid):\n",
    "            res[\"hidrophobic\"].append(coord)\n",
    "        else:\n",
    "            res[\"hidrophilic\"].append(coord)\n",
    "        \n",
    "    return res\n",
    "\n",
    "def draw_protein(spatial_dic):\n",
    "    coords = spatial_dic.keys()\n",
    "    coords_sorted = sort_hidrophobic_coords(spatial_dic)\n",
    "\n",
    "    fig = plt.figure(figsize=(8, 8))\n",
    "    \n",
    "    # LINES\n",
    "    x, y = zip(*coords)\n",
    "    plt.plot(x, y, \"grey\", zorder=0)\n",
    "    \n",
    "    x_diff = abs( min(x) - max(x) )\n",
    "    y_diff = abs( min(y) - max(y) )\n",
    "    thickness = max(x_diff, y_diff)**(-1) * 3500\n",
    "    \n",
    "    # HIDROPHOBIC\n",
    "    x_1, y_1 = zip(*coords_sorted[\"hidrophobic\"])\n",
    "    plt.scatter(x_1, y_1, thickness, color=\"#FF6F82\", label=\"hidrophobic\")\n",
    "    \n",
    "    # HIDROPHILIC\n",
    "    x_2, y_2 = zip(*coords_sorted[\"hidrophilic\"])\n",
    "    plt.scatter(x_2, y_2, thickness, color=\"#4ED1FF\", label=\"hidrophilic\")\n",
    "    \n",
    "    # LETTERS\n",
    "\n",
    "    \n",
    "    x_shift = 0.01 * x_diff\n",
    "    y_shift = 0.01 * y_diff\n",
    "    for coord in coords:\n",
    "        aminoacid = spatial_dic[coord]\n",
    "        \n",
    "        x = coord[0] - x_shift\n",
    "        y = coord[1] - y_shift\n",
    "        plt.annotate(aminoacid, xy=(x,y), xytext=(x,y))\n",
    "\n",
    "    plt.axis(\"equal\")\n",
    "    plt.legend()\n",
    "    plt.show()"
   ]
  },
  {
   "cell_type": "code",
   "execution_count": null,
   "id": "96f90d84",
   "metadata": {},
   "outputs": [],
   "source": [
    "spatial_dic = get_spatial_dic(\"ACDEAF\",\"INNWSW\")\n",
    "sort_hidrophobic_coords(spatial_dic)"
   ]
  },
  {
   "cell_type": "code",
   "execution_count": null,
   "id": "7378b65b",
   "metadata": {},
   "outputs": [],
   "source": [
    "spatial_dic = get_spatial_dic(\"ACDEAFSDSGFLKQA\",\n",
    "                              \"INNWSWNNNEENESE\")\n",
    "print(spatial_dic)\n",
    "draw_protein(spatial_dic)"
   ]
  },
  {
   "cell_type": "code",
   "execution_count": null,
   "id": "b87db0f8",
   "metadata": {},
   "outputs": [],
   "source": [
    "spatial_dic = get_spatial_dic(\"MALWMRLLPLLALLALWGPDPAAAFVNQHLCGSHLVEALYLVCGERGFFYTPKTRREAEDLQVGQVELGGGPGAGSLQPLALEGSLQKRGIVEQCCTSICSLYQLENYCN\",\n",
    "                              \"ISSENNEESWSESENEEEEEENEEENWNWNNWSSWNNWSSSWNWSSWWNNNEENNWNWWWWNWSWWSSSEESWSWWSSENESSWWWSEEEENESSWWWWWWSESEEENEE\")\n",
    "draw_protein(spatial_dic)"
   ]
  },
  {
   "cell_type": "code",
   "execution_count": 56,
   "id": "9e7feb2f",
   "metadata": {},
   "outputs": [],
   "source": [
    "#Ejercicio 5.3\n",
    "def get_value_aaDelta(lista):\n",
    "    res = []\n",
    "    for i in lista:\n",
    "        res.append(aa_deltaG[i])\n",
    "    return res\n",
    "\n",
    "def get_min_color(spatial_list):\n",
    "    res = sys.maxsize\n",
    "    for element in spatial_list:\n",
    "        if(aa_deltaG[element]<res):\n",
    "            res=aa_deltaG[element]\n",
    "    return res\n",
    "\n",
    "            \n",
    "def get_max_color(spatial_list):\n",
    "    res = -sys.maxsize\n",
    "    for element in spatial_list:\n",
    "        if(aa_deltaG[element]>res):\n",
    "            res=aa_deltaG[element]\n",
    "    return res\n",
    "\n",
    "def draw_protein_with_gradient(spatial_dic):\n",
    "    coords = spatial_dic.keys()\n",
    "    coords_sorted = sort_hidrophobic_coords(spatial_dic)\n",
    "    spatial_list = (list(spatial_dic.values()))\n",
    "    \n",
    "    minNum = get_min_color(spatial_list)\n",
    "    maxNum = get_max_color(spatial_list)\n",
    "    \n",
    "    fig = plt.figure(figsize=(8, 10))\n",
    "    \n",
    "    # LINES\n",
    "    color_map = mpl.cm.cool\n",
    "    normalizer = mpl.colors.Normalize(vmin = minNum, vmax = maxNum)\n",
    "    x, y = zip(*coords)\n",
    "    plt.plot(x, y, \"grey\", zorder=0)\n",
    "    \n",
    "    x_diff = abs( min(x) - max(x) )\n",
    "    y_diff = abs( min(y) - max(y) )\n",
    "    thickness = max(x_diff, y_diff)**(-1) * 3500\n",
    "    \n",
    "    # HIDROPHOBIC\n",
    "    x_1, y_1 = zip(*coords)\n",
    "    valores = get_value_aaDelta(spatial_dic.values())\n",
    "    restest=[]\n",
    "    for i in valores:\n",
    "        val = normalizer(i)\n",
    "        restest.append(color_map(val))\n",
    "    plt.scatter(x_1, y_1, thickness, cmap=color_map, color = restest)\n",
    "    \n",
    "    # LETTERS\n",
    "    x_shift = 0.01 * x_diff\n",
    "    y_shift = 0.01 * y_diff\n",
    "    for coord in coords:\n",
    "        aminoacid = spatial_dic[coord]\n",
    "        \n",
    "        x = coord[0] - x_shift\n",
    "        y = coord[1] - y_shift\n",
    "        plt.annotate(aminoacid, xy=(x,y), xytext=(x,y))\n",
    "       \n",
    "    fig.colorbar(mpl.cm.ScalarMappable(norm = normalizer ,\n",
    "               cmap = color_map),\n",
    "               orientation ='horizontal',\n",
    "               label ='Gradiente basado en valores de energía libre')\n",
    "    plt.axis(\"equal\")\n",
    "    plt.show()\n",
    "    "
   ]
  },
  {
   "cell_type": "code",
   "execution_count": 57,
   "id": "e329f054",
   "metadata": {},
   "outputs": [
    {
     "data": {
      "image/png": "[encoded data removed]",
      "text/plain": [
       "<Figure size 576x720 with 2 Axes>"
      ]
     },
     "metadata": {
      "needs_background": "light"
     },
     "output_type": "display_data"
    }
   ],
   "source": [
    "spatial_dic = get_spatial_dic(\"ACDEAFSDSGFLKQA\",\n",
    "                              \"INNWSWNNNEENESE\")\n",
    "draw_protein_with_gradient(spatial_dic)"
   ]
  },
  {
   "cell_type": "code",
   "execution_count": null,
   "id": "acadf4d5",
   "metadata": {},
   "outputs": [],
   "source": []
  },
  {
   "cell_type": "code",
   "execution_count": null,
   "id": "f5d14375",
   "metadata": {},
   "outputs": [],
   "source": []
  }
 ],
 "metadata": {
  "kernelspec": {
   "display_name": "Python 3 (ipykernel)",
   "language": "python",
   "name": "python3"
  },
  "language_info": {
   "codemirror_mode": {
    "name": "ipython",
    "version": 3
   },
   "file_extension": ".py",
   "mimetype": "text/x-python",
   "name": "python",
   "nbconvert_exporter": "python",
   "pygments_lexer": "ipython3",
   "version": "3.9.7"
  }
 },
 "nbformat": 4,
 "nbformat_minor": 5
}
