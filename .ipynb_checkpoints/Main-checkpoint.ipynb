{
 "cells": [
  {
   "cell_type": "code",
   "execution_count": 4,
   "metadata": {},
   "outputs": [],
   "source": [
    "aa_deltaG = { 'A': 1,   # Alanine\n",
    "             'C': 0.17,  # Cysteine\n",
    "             'D': -3,    # Aspartic Acid\n",
    "             'E': -2.6,  # Glutamic Acid\n",
    "             'F': 2.5,   # Phenylalanine\n",
    "             'G': 0.67,  # Glycine\n",
    "             'H': -1.7,  # Histidine\n",
    "             'I': 3.1,   # Isoleucine\n",
    "             'K': -4.6,  # Lysine\n",
    "             'L': 2.2,   # Leucine\n",
    "             'M': 1.1,   # Methionine\n",
    "             'N': -2.7,  # Asparagine\n",
    "             'P': -0.29, # Proline\n",
    "             'Q': -2.9,  # Glutamine\n",
    "             'R': -7.5,  # Arginine\n",
    "             'S': -1.1,  # Serine\n",
    "             'T': -0.75, # Threonine\n",
    "             'V': 2.3,   # Valine\n",
    "             'W': 1.5,   # Tryptophan\n",
    "             'Y': 0.08 } # Tyrosine"
   ]
  },
  {
   "cell_type": "code",
   "execution_count": 5,
   "metadata": {},
   "outputs": [],
   "source": [
    "#Problema 1\n",
    "#protein = \"ACDEF...\"\n",
    "#estructura = \"INSWWE\"\n",
    "#res = (0,0)=[\"A\",\"C\"], (0,1)=\"B\"\n",
    "#Asumimos que protein y structure tienen la misma longitud y solo se puede hacer un movimiento por proteina.\n",
    "def get_spatial_dic(protein, structure): \n",
    "    \n",
    "    #Inicializamos el diccionario que devolveremos si no hay solapamientos\n",
    "    res = dict()\n",
    "    \n",
    "    #Las coordenadas por defecto de inicio son (x,y) = 0,0\n",
    "    afterCords= [0,0]\n",
    "    \n",
    "    #Recorremos la cadena de proteinas\n",
    "    for i in range (0,len(protein)):\n",
    "        \n",
    "        #Si la proteina está en delta entonces y la primera proteía es \"I\" seguimos, en el caso de que no, paramos\n",
    "        if(protein[i] in aa_deltaG):\n",
    "            if(i==0 and structure[i]!=\"I\"):\n",
    "                return dict()\n",
    "            \n",
    "            #Si la proteina es la I, como es el caso inicial suponemos que está en 0,0\n",
    "            if(structure[i] == \"I\"):\n",
    "                res[(0,0)]=protein[i]\n",
    "                \n",
    "            #En cualquier otro caso\n",
    "            else:\n",
    "                \n",
    "                #Si la estructura es una N, obtenemos las coordenadas del anterior y le sumamos 1 a la componente \"y\"\n",
    "                if(structure[i]==\"N\"):\n",
    "                    afterCords= [afterCords[0],afterCords[1]+1]\n",
    "                    newCords = tuple(afterCords)\n",
    "                \n",
    "                #Si la estructura es una N, obtenemos las coordenadas del anterior y le restamos 1 a la componente \"y\"\n",
    "                elif(structure[i]==\"S\"):\n",
    "                    afterCords= [afterCords[0],afterCords[1]-1]\n",
    "                    newCords = tuple(afterCords)\n",
    "                    \n",
    "                #Si la estructura es una N, obtenemos las coordenadas del anterior y le sumamos 1 a la componente \"x\"\n",
    "                elif(structure[i]==\"E\"):\n",
    "                    afterCords= [afterCords[0]+1,afterCords[1]]\n",
    "                    newCords = tuple(afterCords)\n",
    "                \n",
    "                #Si la estructura es una N, obtenemos las coordenadas del anterior y le restamos 1 a la componente \"x\"\n",
    "                elif(structure[i]==\"W\"):\n",
    "                    afterCords= [afterCords[0]-1,afterCords[1]]\n",
    "                    newCords = tuple(afterCords)\n",
    "                    \n",
    "                #En el caso de que las nuevas coordenadas no estén el diccionario las añadimos, en el caso de que estén,\n",
    "                #Significa que existe solapamiento, por tanto devolvemos uno vacío\n",
    "                if(newCords not in res):\n",
    "                    res[newCords]=protein[i]\n",
    "                else:\n",
    "                    return dict()\n",
    "        else:\n",
    "            return dict()\n",
    "    return res\n",
    "\n",
    "        "
   ]
  },
  {
   "cell_type": "code",
   "execution_count": 6,
   "metadata": {},
   "outputs": [
    {
     "data": {
      "text/plain": [
       "{(0, 0): 'A', (-1, 0): 'C', (-1, 1): 'D', (-1, 2): 'E', (-1, 3): 'F'}"
      ]
     },
     "execution_count": 6,
     "metadata": {},
     "output_type": "execute_result"
    }
   ],
   "source": [
    "get_spatial_dic(\"ACDEF\",\"IWNNN\")"
   ]
  },
  {
   "cell_type": "code",
   "execution_count": 7,
   "metadata": {},
   "outputs": [],
   "source": [
    "# Problema 2.1\n",
    "# input: aa \"aminoacid\" ej: \"A\", \"C\", \"D\",\n",
    "# output: True (hidrophobic) or false (hidrophilic)\n",
    "\n",
    "def is_hidrofobic(aa):\n",
    "    hidrophobic_limit = -1.5\n",
    "\n",
    "    return aa_deltaG[aa] > hidrophobic_limit"
   ]
  },
  {
   "cell_type": "code",
   "execution_count": 8,
   "metadata": {},
   "outputs": [
    {
     "name": "stdout",
     "output_type": "stream",
     "text": [
      "True\n",
      "False\n",
      "True\n"
     ]
    }
   ],
   "source": [
    "print(is_hidrofobic('A'))\n",
    "print(is_hidrofobic('D'))\n",
    "print(is_hidrofobic('S'))        "
   ]
  },
  {
   "cell_type": "code",
   "execution_count": 12,
   "metadata": {},
   "outputs": [],
   "source": [
    "# Problema 2.2\n",
    "# input: \n",
    "#    dic \"dictionary that represents 2d structure of the protein\" ej: {(0,0): A, (0,1): D ... }\n",
    "# output: score\n",
    "\n",
    "def get_N(dic, coords):\n",
    "    res = 0\n",
    "    x = coords[0]\n",
    "    y = coords[1]\n",
    "    \n",
    "    if ((x+1, y) not in dic):\n",
    "        res+=1\n",
    "    if ((x, y+1) not in dic):\n",
    "        res+=1\n",
    "    if ((x-1, y) not in dic):\n",
    "        res+=1\n",
    "    if ((x, y-1) not in dic):\n",
    "        res+=1\n",
    "        \n",
    "    return res\n",
    "\n",
    "def get_score(dic):\n",
    "    res = 0\n",
    "    for coords in dic:\n",
    "        \n",
    "        aminoacid = dic[coords]\n",
    "        N = get_N(dic,coords)\n",
    "        \n",
    "        res += aa_deltaG[aminoacid] * N\n",
    "        if is_hidrofobic(aminoacid):\n",
    "            res += 10 * N\n",
    "    return res"
   ]
  },
  {
   "cell_type": "code",
   "execution_count": 13,
   "metadata": {},
   "outputs": [
    {
     "data": {
      "text/plain": [
       "24"
      ]
     },
     "execution_count": 13,
     "metadata": {},
     "output_type": "execute_result"
    }
   ],
   "source": [
    "get_score({(0,0): \"A\", (0,1): \"D\"})"
   ]
  },
  {
   "cell_type": "code",
   "execution_count": null,
   "metadata": {},
   "outputs": [],
   "source": []
  }
 ],
 "metadata": {
  "kernelspec": {
   "display_name": "Python 3",
   "language": "python",
   "name": "python3"
  },
  "language_info": {
   "codemirror_mode": {
    "name": "ipython",
    "version": 3
   },
   "file_extension": ".py",
   "mimetype": "text/x-python",
   "name": "python",
   "nbconvert_exporter": "python",
   "pygments_lexer": "ipython3",
   "version": "3.7.3"
  }
 },
 "nbformat": 4,
 "nbformat_minor": 5
}
